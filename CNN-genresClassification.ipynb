{
 "cells": [
  {
   "cell_type": "code",
   "execution_count": 1,
   "metadata": {
    "execution": {
     "iopub.execute_input": "2021-11-01T07:10:04.465596Z",
     "iopub.status.busy": "2021-11-01T07:10:04.464520Z",
     "iopub.status.idle": "2021-11-01T07:10:10.994672Z",
     "shell.execute_reply": "2021-11-01T07:10:10.993631Z",
     "shell.execute_reply.started": "2021-11-01T07:10:04.465471Z"
    }
   },
   "outputs": [],
   "source": [
    "import json\n",
    "import numpy as np\n",
    "from sklearn.model_selection import train_test_split\n",
    "import matplotlib.pyplot as plt\n",
    "import tensorflow.keras as K\n",
    "import tensorflow as tf\n",
    "from tensorflow.keras.layers import Input, Dropout, Conv2D, Flatten, Dense, Activation, Add, BatchNormalization, MaxPooling2D \n",
    "from tensorflow.keras.models import Model\n",
    "from tensorflow.keras.layers import GlobalAveragePooling2D\n",
    "from tensorflow.keras.optimizers import Adam"
   ]
  },
  {
   "cell_type": "code",
   "execution_count": 2,
   "metadata": {
    "execution": {
     "iopub.execute_input": "2021-11-01T07:10:20.767501Z",
     "iopub.status.busy": "2021-11-01T07:10:20.766793Z",
     "iopub.status.idle": "2021-11-01T07:10:20.778059Z",
     "shell.execute_reply": "2021-11-01T07:10:20.777006Z",
     "shell.execute_reply.started": "2021-11-01T07:10:20.767459Z"
    }
   },
   "outputs": [],
   "source": [
    "def load_data(data_path):\n",
    "    with open(data_path, \"r\") as fp:\n",
    "        data = json.load(fp)\n",
    "\n",
    "    X = np.array(data[\"mfcc\"])\n",
    "    y = np.array(data[\"labels\"])\n",
    "    mapping = data[\"mapping\"]\n",
    "    return X, y, mapping"
   ]
  },
  {
   "cell_type": "code",
   "execution_count": 3,
   "metadata": {
    "execution": {
     "iopub.execute_input": "2021-11-01T07:10:27.632464Z",
     "iopub.status.busy": "2021-11-01T07:10:27.631740Z",
     "iopub.status.idle": "2021-11-01T07:10:52.313696Z",
     "shell.execute_reply": "2021-11-01T07:10:52.312590Z",
     "shell.execute_reply.started": "2021-11-01T07:10:27.632366Z"
    }
   },
   "outputs": [],
   "source": [
    "json_path = \"../input/data-json/data_10.json\"\n",
    "X, y, mapping = load_data(json_path)"
   ]
  },
  {
   "cell_type": "code",
   "execution_count": 4,
   "metadata": {
    "execution": {
     "iopub.execute_input": "2021-11-01T07:11:06.780803Z",
     "iopub.status.busy": "2021-11-01T07:11:06.780470Z",
     "iopub.status.idle": "2021-11-01T07:11:06.848551Z",
     "shell.execute_reply": "2021-11-01T07:11:06.847556Z",
     "shell.execute_reply.started": "2021-11-01T07:11:06.780765Z"
    }
   },
   "outputs": [],
   "source": [
    "X_train, X_test, y_train, y_test = train_test_split(X, y, test_size=0.25)"
   ]
  },
  {
   "cell_type": "code",
   "execution_count": 5,
   "metadata": {
    "execution": {
     "iopub.execute_input": "2021-11-01T07:11:10.892930Z",
     "iopub.status.busy": "2021-11-01T07:11:10.892156Z",
     "iopub.status.idle": "2021-11-01T07:11:10.940538Z",
     "shell.execute_reply": "2021-11-01T07:11:10.939548Z",
     "shell.execute_reply.started": "2021-11-01T07:11:10.892895Z"
    }
   },
   "outputs": [],
   "source": [
    "X_train, X_val, y_train, y_val = train_test_split(X_train, y_train, test_size=0.1)"
   ]
  },
  {
   "cell_type": "code",
   "execution_count": 6,
   "metadata": {
    "execution": {
     "iopub.execute_input": "2021-11-01T07:11:16.311353Z",
     "iopub.status.busy": "2021-11-01T07:11:16.311061Z",
     "iopub.status.idle": "2021-11-01T07:11:16.318938Z",
     "shell.execute_reply": "2021-11-01T07:11:16.317320Z",
     "shell.execute_reply.started": "2021-11-01T07:11:16.311323Z"
    }
   },
   "outputs": [
    {
     "name": "stdout",
     "output_type": "stream",
     "text": [
      "(6740, 130, 13) (2497, 130, 13) (749, 130, 13)\n",
      "(6740,) (2497,) (749,)\n"
     ]
    }
   ],
   "source": [
    "print(X_train.shape, X_test.shape, X_val.shape)\n",
    "print(y_train.shape, y_test.shape, y_val.shape)"
   ]
  },
  {
   "cell_type": "code",
   "execution_count": 7,
   "metadata": {
    "execution": {
     "iopub.execute_input": "2021-11-01T07:11:19.311971Z",
     "iopub.status.busy": "2021-11-01T07:11:19.311674Z",
     "iopub.status.idle": "2021-11-01T07:11:19.317782Z",
     "shell.execute_reply": "2021-11-01T07:11:19.316038Z",
     "shell.execute_reply.started": "2021-11-01T07:11:19.311923Z"
    }
   },
   "outputs": [],
   "source": [
    "X_train = np.expand_dims(X_train, -1)\n",
    "X_test = X_test[..., np.newaxis]\n",
    "X_val = np.expand_dims(X_val, -1)"
   ]
  },
  {
   "cell_type": "code",
   "execution_count": 8,
   "metadata": {
    "execution": {
     "iopub.execute_input": "2021-11-01T07:11:29.464911Z",
     "iopub.status.busy": "2021-11-01T07:11:29.464585Z",
     "iopub.status.idle": "2021-11-01T07:11:29.475691Z",
     "shell.execute_reply": "2021-11-01T07:11:29.474565Z",
     "shell.execute_reply.started": "2021-11-01T07:11:29.464880Z"
    }
   },
   "outputs": [],
   "source": [
    "def build_model(input_shape):\n",
    "    model = K.Sequential()\n",
    "    model.add(K.layers.Conv2D(64, (3, 3), input_shape=input_shape, activation=\"relu\", padding=\"same\"))\n",
    "    model.add(K.layers.MaxPooling2D((2, 2), strides=(2, 2)))\n",
    "    model.add(K.layers.BatchNormalization())\n",
    "    \n",
    "    model.add(K.layers.Conv2D(128, (3, 3), activation=\"relu\", padding=\"same\"))\n",
    "    model.add(K.layers.MaxPooling2D((2, 2), strides=(2, 2)))\n",
    "    model.add(K.layers.BatchNormalization())\n",
    "\n",
    "    model.add(K.layers.Conv2D(256, (3, 3), activation=\"relu\", padding=\"same\"))\n",
    "    model.add(K.layers.MaxPooling2D((2, 2), strides=(2, 2)))\n",
    "    model.add(K.layers.BatchNormalization())\n",
    "    \n",
    "    model.add(K.layers.Flatten())\n",
    "    model.add(K.layers.Dense(64, activation=\"relu\"))\n",
    "    model.add(K.layers.Dense(10, activation=\"softmax\"))\n",
    "    return model"
   ]
  },
  {
   "cell_type": "code",
   "execution_count": 9,
   "metadata": {
    "execution": {
     "iopub.execute_input": "2021-11-01T07:12:23.668277Z",
     "iopub.status.busy": "2021-11-01T07:12:23.667888Z",
     "iopub.status.idle": "2021-11-01T07:12:26.554395Z",
     "shell.execute_reply": "2021-11-01T07:12:26.550576Z",
     "shell.execute_reply.started": "2021-11-01T07:12:23.668218Z"
    }
   },
   "outputs": [
    {
     "name": "stdout",
     "output_type": "stream",
     "text": [
      "Model: \"sequential\"\n",
      "_________________________________________________________________\n",
      "Layer (type)                 Output Shape              Param #   \n",
      "=================================================================\n",
      "conv2d (Conv2D)              (None, 130, 13, 64)       640       \n",
      "_________________________________________________________________\n",
      "max_pooling2d (MaxPooling2D) (None, 65, 6, 64)         0         \n",
      "_________________________________________________________________\n",
      "batch_normalization (BatchNo (None, 65, 6, 64)         256       \n",
      "_________________________________________________________________\n",
      "conv2d_1 (Conv2D)            (None, 65, 6, 128)        73856     \n",
      "_________________________________________________________________\n",
      "max_pooling2d_1 (MaxPooling2 (None, 32, 3, 128)        0         \n",
      "_________________________________________________________________\n",
      "batch_normalization_1 (Batch (None, 32, 3, 128)        512       \n",
      "_________________________________________________________________\n",
      "conv2d_2 (Conv2D)            (None, 32, 3, 256)        295168    \n",
      "_________________________________________________________________\n",
      "max_pooling2d_2 (MaxPooling2 (None, 16, 1, 256)        0         \n",
      "_________________________________________________________________\n",
      "batch_normalization_2 (Batch (None, 16, 1, 256)        1024      \n",
      "_________________________________________________________________\n",
      "flatten (Flatten)            (None, 4096)              0         \n",
      "_________________________________________________________________\n",
      "dense (Dense)                (None, 64)                262208    \n",
      "_________________________________________________________________\n",
      "dense_1 (Dense)              (None, 10)                650       \n",
      "=================================================================\n",
      "Total params: 634,314\n",
      "Trainable params: 633,418\n",
      "Non-trainable params: 896\n",
      "_________________________________________________________________\n"
     ]
    },
    {
     "name": "stderr",
     "output_type": "stream",
     "text": [
      "2021-11-01 07:12:23.758464: I tensorflow/stream_executor/cuda/cuda_gpu_executor.cc:937] successful NUMA node read from SysFS had negative value (-1), but there must be at least one NUMA node, so returning NUMA node zero\n",
      "2021-11-01 07:12:23.866499: I tensorflow/stream_executor/cuda/cuda_gpu_executor.cc:937] successful NUMA node read from SysFS had negative value (-1), but there must be at least one NUMA node, so returning NUMA node zero\n",
      "2021-11-01 07:12:23.867555: I tensorflow/stream_executor/cuda/cuda_gpu_executor.cc:937] successful NUMA node read from SysFS had negative value (-1), but there must be at least one NUMA node, so returning NUMA node zero\n",
      "2021-11-01 07:12:23.869578: I tensorflow/core/platform/cpu_feature_guard.cc:142] This TensorFlow binary is optimized with oneAPI Deep Neural Network Library (oneDNN) to use the following CPU instructions in performance-critical operations:  AVX2 FMA\n",
      "To enable them in other operations, rebuild TensorFlow with the appropriate compiler flags.\n",
      "2021-11-01 07:12:23.870449: I tensorflow/stream_executor/cuda/cuda_gpu_executor.cc:937] successful NUMA node read from SysFS had negative value (-1), but there must be at least one NUMA node, so returning NUMA node zero\n",
      "2021-11-01 07:12:23.871409: I tensorflow/stream_executor/cuda/cuda_gpu_executor.cc:937] successful NUMA node read from SysFS had negative value (-1), but there must be at least one NUMA node, so returning NUMA node zero\n",
      "2021-11-01 07:12:23.872374: I tensorflow/stream_executor/cuda/cuda_gpu_executor.cc:937] successful NUMA node read from SysFS had negative value (-1), but there must be at least one NUMA node, so returning NUMA node zero\n",
      "2021-11-01 07:12:26.071786: I tensorflow/stream_executor/cuda/cuda_gpu_executor.cc:937] successful NUMA node read from SysFS had negative value (-1), but there must be at least one NUMA node, so returning NUMA node zero\n",
      "2021-11-01 07:12:26.072904: I tensorflow/stream_executor/cuda/cuda_gpu_executor.cc:937] successful NUMA node read from SysFS had negative value (-1), but there must be at least one NUMA node, so returning NUMA node zero\n",
      "2021-11-01 07:12:26.074050: I tensorflow/stream_executor/cuda/cuda_gpu_executor.cc:937] successful NUMA node read from SysFS had negative value (-1), but there must be at least one NUMA node, so returning NUMA node zero\n",
      "2021-11-01 07:12:26.074962: I tensorflow/core/common_runtime/gpu/gpu_device.cc:1510] Created device /job:localhost/replica:0/task:0/device:GPU:0 with 15403 MB memory:  -> device: 0, name: Tesla P100-PCIE-16GB, pci bus id: 0000:00:04.0, compute capability: 6.0\n"
     ]
    }
   ],
   "source": [
    "model = build_model(X_train[0].shape)\n",
    "optimizer = K.optimizers.Adam(learning_rate=0.001)\n",
    "model.compile(optimizer=optimizer,\n",
    "              loss='sparse_categorical_crossentropy',\n",
    "              metrics=['accuracy'])\n",
    "model.summary()"
   ]
  },
  {
   "cell_type": "code",
   "execution_count": 10,
   "metadata": {
    "execution": {
     "iopub.execute_input": "2021-11-01T07:12:53.230544Z",
     "iopub.status.busy": "2021-11-01T07:12:53.229823Z",
     "iopub.status.idle": "2021-11-01T07:12:53.237322Z",
     "shell.execute_reply": "2021-11-01T07:12:53.235324Z",
     "shell.execute_reply.started": "2021-11-01T07:12:53.230509Z"
    }
   },
   "outputs": [],
   "source": [
    "def lrdecay(epoch):\n",
    "    lr = 1e-3\n",
    "    if epoch > 10:\n",
    "        lr *= 0.5e-3\n",
    "    elif epoch > 20:\n",
    "        lr *= 1e-3\n",
    "    elif epoch > 30:\n",
    "        lr *= 1e-2\n",
    "    elif epoch > 35:\n",
    "        lr *= 1e-1\n",
    "    return lr\n",
    "lrdecay = tf.keras.callbacks.LearningRateScheduler(lrdecay) "
   ]
  },
  {
   "cell_type": "code",
   "execution_count": 11,
   "metadata": {
    "execution": {
     "iopub.execute_input": "2021-11-01T07:12:58.210029Z",
     "iopub.status.busy": "2021-11-01T07:12:58.209710Z",
     "iopub.status.idle": "2021-11-01T07:14:21.028381Z",
     "shell.execute_reply": "2021-11-01T07:14:21.027433Z",
     "shell.execute_reply.started": "2021-11-01T07:12:58.209970Z"
    }
   },
   "outputs": [
    {
     "name": "stderr",
     "output_type": "stream",
     "text": [
      "2021-11-01 07:12:58.392350: I tensorflow/compiler/mlir/mlir_graph_optimization_pass.cc:185] None of the MLIR Optimization Passes are enabled (registered 2)\n"
     ]
    },
    {
     "name": "stdout",
     "output_type": "stream",
     "text": [
      "Epoch 1/40\n"
     ]
    },
    {
     "name": "stderr",
     "output_type": "stream",
     "text": [
      "2021-11-01 07:12:59.994512: I tensorflow/stream_executor/cuda/cuda_dnn.cc:369] Loaded cuDNN version 8005\n"
     ]
    },
    {
     "name": "stdout",
     "output_type": "stream",
     "text": [
      "106/106 [==============================] - 9s 12ms/step - loss: 1.5649 - accuracy: 0.4871 - val_loss: 4.4815 - val_accuracy: 0.2497\n",
      "Epoch 2/40\n",
      "106/106 [==============================] - 1s 8ms/step - loss: 1.0285 - accuracy: 0.6442 - val_loss: 1.0705 - val_accuracy: 0.6235\n",
      "Epoch 3/40\n",
      "106/106 [==============================] - 1s 8ms/step - loss: 0.6756 - accuracy: 0.7662 - val_loss: 1.2057 - val_accuracy: 0.6182\n",
      "Epoch 4/40\n",
      "106/106 [==============================] - 1s 8ms/step - loss: 0.4808 - accuracy: 0.8371 - val_loss: 1.1728 - val_accuracy: 0.6529\n",
      "Epoch 5/40\n",
      "106/106 [==============================] - 1s 8ms/step - loss: 0.3441 - accuracy: 0.8819 - val_loss: 1.0070 - val_accuracy: 0.6796\n",
      "Epoch 6/40\n",
      "106/106 [==============================] - 1s 8ms/step - loss: 0.2229 - accuracy: 0.9286 - val_loss: 0.7947 - val_accuracy: 0.7543\n",
      "Epoch 7/40\n",
      "106/106 [==============================] - 1s 8ms/step - loss: 0.1606 - accuracy: 0.9494 - val_loss: 0.8911 - val_accuracy: 0.7503\n",
      "Epoch 8/40\n",
      "106/106 [==============================] - 1s 8ms/step - loss: 0.1031 - accuracy: 0.9708 - val_loss: 0.8021 - val_accuracy: 0.7623\n",
      "Epoch 9/40\n",
      "106/106 [==============================] - 1s 9ms/step - loss: 0.0811 - accuracy: 0.9764 - val_loss: 0.9538 - val_accuracy: 0.7397\n",
      "Epoch 10/40\n",
      "106/106 [==============================] - 1s 10ms/step - loss: 0.0845 - accuracy: 0.9718 - val_loss: 0.8460 - val_accuracy: 0.7877\n",
      "Epoch 11/40\n",
      "106/106 [==============================] - 1s 10ms/step - loss: 0.0606 - accuracy: 0.9841 - val_loss: 0.9417 - val_accuracy: 0.7717\n",
      "Epoch 12/40\n",
      "106/106 [==============================] - 1s 8ms/step - loss: 0.0431 - accuracy: 0.9878 - val_loss: 0.8490 - val_accuracy: 0.7864\n",
      "Epoch 13/40\n",
      "106/106 [==============================] - 1s 8ms/step - loss: 0.0404 - accuracy: 0.9892 - val_loss: 0.8238 - val_accuracy: 0.7944\n",
      "Epoch 14/40\n",
      "106/106 [==============================] - 1s 8ms/step - loss: 0.0322 - accuracy: 0.9926 - val_loss: 0.8152 - val_accuracy: 0.7864\n",
      "Epoch 15/40\n",
      "106/106 [==============================] - 1s 8ms/step - loss: 0.0439 - accuracy: 0.9878 - val_loss: 0.9257 - val_accuracy: 0.7744\n",
      "Epoch 16/40\n",
      "106/106 [==============================] - 1s 8ms/step - loss: 0.0384 - accuracy: 0.9881 - val_loss: 1.4089 - val_accuracy: 0.7049\n",
      "Epoch 17/40\n",
      "106/106 [==============================] - 1s 8ms/step - loss: 0.0421 - accuracy: 0.9886 - val_loss: 1.1439 - val_accuracy: 0.7744\n",
      "Epoch 18/40\n",
      "106/106 [==============================] - 1s 8ms/step - loss: 0.1422 - accuracy: 0.9540 - val_loss: 1.6551 - val_accuracy: 0.6662\n",
      "Epoch 19/40\n",
      "106/106 [==============================] - 1s 8ms/step - loss: 0.2221 - accuracy: 0.9243 - val_loss: 1.3342 - val_accuracy: 0.7183\n",
      "Epoch 20/40\n",
      "106/106 [==============================] - 1s 8ms/step - loss: 0.1051 - accuracy: 0.9663 - val_loss: 1.1713 - val_accuracy: 0.7570\n",
      "Epoch 21/40\n",
      "106/106 [==============================] - 1s 8ms/step - loss: 0.0631 - accuracy: 0.9791 - val_loss: 1.1219 - val_accuracy: 0.7557\n",
      "Epoch 22/40\n",
      "106/106 [==============================] - 1s 8ms/step - loss: 0.0671 - accuracy: 0.9791 - val_loss: 1.0804 - val_accuracy: 0.7757\n",
      "Epoch 23/40\n",
      "106/106 [==============================] - 1s 8ms/step - loss: 0.0343 - accuracy: 0.9895 - val_loss: 0.9540 - val_accuracy: 0.7757\n",
      "Epoch 24/40\n",
      "106/106 [==============================] - 1s 10ms/step - loss: 0.0153 - accuracy: 0.9960 - val_loss: 0.9368 - val_accuracy: 0.8024\n",
      "Epoch 25/40\n",
      "106/106 [==============================] - 1s 8ms/step - loss: 0.0080 - accuracy: 0.9976 - val_loss: 0.9182 - val_accuracy: 0.8117\n",
      "Epoch 26/40\n",
      "106/106 [==============================] - 1s 8ms/step - loss: 0.0074 - accuracy: 0.9988 - val_loss: 0.8368 - val_accuracy: 0.8238\n",
      "Epoch 27/40\n",
      "106/106 [==============================] - 1s 8ms/step - loss: 0.0056 - accuracy: 0.9990 - val_loss: 0.8212 - val_accuracy: 0.8264\n",
      "Epoch 28/40\n",
      "106/106 [==============================] - 1s 8ms/step - loss: 0.0066 - accuracy: 0.9985 - val_loss: 0.8462 - val_accuracy: 0.8224\n",
      "Epoch 29/40\n",
      "106/106 [==============================] - 1s 8ms/step - loss: 0.0051 - accuracy: 0.9990 - val_loss: 0.8446 - val_accuracy: 0.8318\n",
      "Epoch 30/40\n",
      "106/106 [==============================] - 1s 8ms/step - loss: 0.0043 - accuracy: 0.9988 - val_loss: 0.8922 - val_accuracy: 0.8211\n",
      "Epoch 31/40\n",
      "106/106 [==============================] - 1s 8ms/step - loss: 0.0033 - accuracy: 0.9988 - val_loss: 0.8456 - val_accuracy: 0.8251\n",
      "Epoch 32/40\n",
      "106/106 [==============================] - 1s 8ms/step - loss: 0.0046 - accuracy: 0.9991 - val_loss: 0.8594 - val_accuracy: 0.8238\n",
      "Epoch 33/40\n",
      "106/106 [==============================] - 1s 8ms/step - loss: 0.0043 - accuracy: 0.9987 - val_loss: 0.8449 - val_accuracy: 0.8358\n",
      "Epoch 34/40\n",
      "106/106 [==============================] - 1s 8ms/step - loss: 0.0176 - accuracy: 0.9939 - val_loss: 1.3629 - val_accuracy: 0.7583\n",
      "Epoch 35/40\n",
      "106/106 [==============================] - 1s 8ms/step - loss: 0.0879 - accuracy: 0.9742 - val_loss: 2.2836 - val_accuracy: 0.6769\n",
      "Epoch 36/40\n",
      "106/106 [==============================] - 1s 9ms/step - loss: 0.3322 - accuracy: 0.8996 - val_loss: 2.1300 - val_accuracy: 0.6489\n",
      "Epoch 37/40\n",
      "106/106 [==============================] - 1s 8ms/step - loss: 0.1778 - accuracy: 0.9393 - val_loss: 1.4872 - val_accuracy: 0.7130\n",
      "Epoch 38/40\n",
      "106/106 [==============================] - 1s 8ms/step - loss: 0.0682 - accuracy: 0.9760 - val_loss: 1.3578 - val_accuracy: 0.7517\n",
      "Epoch 39/40\n",
      "106/106 [==============================] - 1s 8ms/step - loss: 0.0387 - accuracy: 0.9861 - val_loss: 1.2863 - val_accuracy: 0.7744\n",
      "Epoch 40/40\n",
      "106/106 [==============================] - 1s 8ms/step - loss: 0.0292 - accuracy: 0.9908 - val_loss: 1.0530 - val_accuracy: 0.8104\n"
     ]
    }
   ],
   "source": [
    "history = model.fit(X_train, y_train, validation_data=(X_val, y_val), batch_size=64, epochs=40)"
   ]
  },
  {
   "cell_type": "code",
   "execution_count": 12,
   "metadata": {
    "execution": {
     "iopub.execute_input": "2021-11-01T07:14:21.031283Z",
     "iopub.status.busy": "2021-11-01T07:14:21.030785Z",
     "iopub.status.idle": "2021-11-01T07:14:21.040875Z",
     "shell.execute_reply": "2021-11-01T07:14:21.039537Z",
     "shell.execute_reply.started": "2021-11-01T07:14:21.031238Z"
    }
   },
   "outputs": [],
   "source": [
    "def plot_history(history): \n",
    "    fig, axs = plt.subplots(2, figsize=(10, 10))\n",
    "\n",
    "    # create accuracy sublpot\n",
    "    axs[0].plot(history.history[\"accuracy\"], label=\"train accuracy\")\n",
    "    axs[0].plot(history.history[\"val_accuracy\"], label=\"valid accuracy\")\n",
    "    axs[0].set_ylabel(\"Accuracy\")\n",
    "    axs[0].set_xlabel(\"Epoch\")\n",
    "    axs[0].legend(loc=\"lower right\")\n",
    "    axs[0].set_title(\"Accuracy evaluation\")\n",
    "\n",
    "    # create error sublpot\n",
    "    axs[1].plot(history.history[\"loss\"], label=\"train loss\")\n",
    "    axs[1].plot(history.history[\"val_loss\"], label=\"valid loss\")\n",
    "    axs[1].set_ylabel(\"Loss\")\n",
    "    axs[1].set_xlabel(\"Epoch\")\n",
    "    axs[1].legend(loc=\"upper right\")\n",
    "    axs[1].set_title(\"Valid evaluation\")\n",
    "\n",
    "    plt.show()"
   ]
  },
  {
   "cell_type": "code",
   "execution_count": 13,
   "metadata": {
    "execution": {
     "iopub.execute_input": "2021-11-01T07:14:21.043005Z",
     "iopub.status.busy": "2021-11-01T07:14:21.042455Z",
     "iopub.status.idle": "2021-11-01T07:14:21.494795Z",
     "shell.execute_reply": "2021-11-01T07:14:21.493878Z",
     "shell.execute_reply.started": "2021-11-01T07:14:21.042962Z"
    }
   },
   "outputs": [
    {
     "data": {
      "image/png": "[encoded data removed]",
      "text/plain": [
       "<Figure size 720x720 with 2 Axes>"
      ]
     },
     "metadata": {
      "needs_background": "light"
     },
     "output_type": "display_data"
    }
   ],
   "source": [
    "plot_history(history)"
   ]
  },
  {
   "cell_type": "markdown",
   "metadata": {},
   "source": [
    "Overfitting"
   ]
  },
  {
   "cell_type": "code",
   "execution_count": 14,
   "metadata": {
    "execution": {
     "iopub.execute_input": "2021-11-01T07:14:54.446504Z",
     "iopub.status.busy": "2021-11-01T07:14:54.446222Z",
     "iopub.status.idle": "2021-11-01T07:14:55.034972Z",
     "shell.execute_reply": "2021-11-01T07:14:55.034114Z",
     "shell.execute_reply.started": "2021-11-01T07:14:54.446475Z"
    }
   },
   "outputs": [
    {
     "name": "stdout",
     "output_type": "stream",
     "text": [
      "79/79 [==============================] - 1s 5ms/step - loss: 1.2261 - accuracy: 0.7797\n",
      "Test loss : 1.2260680198669434, Test accuracy: 0.7797356843948364\n"
     ]
    }
   ],
   "source": [
    "test_loss, test_acc = model.evaluate(X_test, y_test, verbose=1)\n",
    "print(\"Test loss : {}, Test accuracy: {}\".format(test_loss, test_acc))"
   ]
  },
  {
   "cell_type": "code",
   "execution_count": 15,
   "metadata": {
    "execution": {
     "iopub.execute_input": "2021-11-01T07:15:04.768448Z",
     "iopub.status.busy": "2021-11-01T07:15:04.768152Z",
     "iopub.status.idle": "2021-11-01T07:15:05.115996Z",
     "shell.execute_reply": "2021-11-01T07:15:05.115137Z",
     "shell.execute_reply.started": "2021-11-01T07:15:04.768416Z"
    }
   },
   "outputs": [
    {
     "data": {
      "text/plain": [
       "array([[178,   0,  14,   4,   7,  10,  12,   0,   1,   7],\n",
       "       [  0, 218,   3,   0,   0,  22,   0,   0,   0,   4],\n",
       "       [  9,   1, 180,  13,   3,  22,   6,   2,   2,  30],\n",
       "       [  4,   3,   7, 199,   9,   7,   5,   2,   6,  10],\n",
       "       [  4,   1,   2,  15, 199,   0,   5,   4,  12,   5],\n",
       "       [  1,   3,   5,   0,   0, 237,   0,   0,   1,   1],\n",
       "       [  3,   0,   0,   1,   4,   1, 228,   0,   0,  18],\n",
       "       [  0,   0,  13,  19,  22,   6,   0, 170,   9,  10],\n",
       "       [  1,   0,  12,  19,  16,   1,   0,   2, 179,   3],\n",
       "       [ 15,   0,  23,  20,   8,  12,  16,   5,   7, 159]])"
      ]
     },
     "execution_count": 15,
     "metadata": {},
     "output_type": "execute_result"
    }
   ],
   "source": [
    "from sklearn.metrics import classification_report, confusion_matrix\n",
    "# Confusion matrix\n",
    "y_predicted = model.predict(X_test)\n",
    "y_predicted = np.argmax(y_predicted, axis=1)\n",
    "confusion_matrix(y_test, y_predicted)"
   ]
  },
  {
   "cell_type": "code",
   "execution_count": 16,
   "metadata": {
    "execution": {
     "iopub.execute_input": "2021-11-01T07:15:08.223375Z",
     "iopub.status.busy": "2021-11-01T07:15:08.223112Z",
     "iopub.status.idle": "2021-11-01T07:15:08.243615Z",
     "shell.execute_reply": "2021-11-01T07:15:08.242659Z",
     "shell.execute_reply.started": "2021-11-01T07:15:08.223347Z"
    }
   },
   "outputs": [
    {
     "name": "stdout",
     "output_type": "stream",
     "text": [
      "              precision    recall  f1-score   support\n",
      "\n",
      "       blues       0.83      0.76      0.79       233\n",
      "   classical       0.96      0.88      0.92       247\n",
      "     country       0.69      0.67      0.68       268\n",
      "       disco       0.69      0.79      0.73       252\n",
      "      hiphop       0.74      0.81      0.77       247\n",
      "        jazz       0.75      0.96      0.84       248\n",
      "       metal       0.84      0.89      0.87       255\n",
      "         pop       0.92      0.68      0.78       249\n",
      "      reggae       0.82      0.77      0.80       233\n",
      "        rock       0.64      0.60      0.62       265\n",
      "\n",
      "    accuracy                           0.78      2497\n",
      "   macro avg       0.79      0.78      0.78      2497\n",
      "weighted avg       0.79      0.78      0.78      2497\n",
      "\n"
     ]
    }
   ],
   "source": [
    "print(classification_report(y_test, y_predicted, target_names = mapping))"
   ]
  },
  {
   "cell_type": "code",
   "execution_count": 17,
   "metadata": {
    "execution": {
     "iopub.execute_input": "2021-11-01T07:15:13.480410Z",
     "iopub.status.busy": "2021-11-01T07:15:13.480108Z",
     "iopub.status.idle": "2021-11-01T07:15:13.502036Z",
     "shell.execute_reply": "2021-11-01T07:15:13.500752Z",
     "shell.execute_reply.started": "2021-11-01T07:15:13.480377Z"
    }
   },
   "outputs": [],
   "source": [
    "mat = confusion_matrix(y_test, y_predicted)\n",
    "def plot_confusion_matrix(cm,\n",
    "                          target_names,\n",
    "                          title='Confusion matrix',\n",
    "                          cmap=None,\n",
    "                          normalize=True, \n",
    "                          size_mat=(40, 30)):\n",
    "\n",
    "    import itertools\n",
    "    accuracy = np.trace(cm) / float(np.sum(cm))\n",
    "    misclass = 1 - accuracy\n",
    "\n",
    "    if cmap is None:\n",
    "        cmap = plt.get_cmap('Blues')\n",
    "    plt.figure(figsize=size_mat)\n",
    "    plt.imshow(cm, interpolation='nearest', cmap=cmap)\n",
    "    plt.title(title)\n",
    "    plt.colorbar()\n",
    "\n",
    "    if target_names is not None:\n",
    "        tick_marks = np.arange(len(target_names))\n",
    "        plt.xticks(tick_marks, target_names, rotation=45)\n",
    "        plt.yticks(tick_marks, target_names)\n",
    "\n",
    "    if normalize:\n",
    "        cm = cm.astype('float') / cm.sum(axis=1)[:, np.newaxis]\n",
    "\n",
    "\n",
    "    thresh = cm.max() / 1.5 if normalize else cm.max() / 2\n",
    "    for i, j in itertools.product(range(cm.shape[0]), range(cm.shape[1])):\n",
    "        if normalize:\n",
    "            plt.text(j, i, \"{:0.4f}\".format(cm[i, j]),\n",
    "                     horizontalalignment=\"center\",\n",
    "                     color=\"white\" if cm[i, j] > thresh else \"black\")\n",
    "        else:\n",
    "            plt.text(j, i, \"{:,}\".format(cm[i, j]),\n",
    "                     horizontalalignment=\"center\",\n",
    "                     color=\"white\" if cm[i, j] > thresh else \"black\")\n",
    "    plt.tight_layout()\n",
    "    plt.ylabel('True label')\n",
    "    plt.xlabel('Predicted label\\naccuracy={:0.4f}; misclass={:0.4f}'.format(accuracy, misclass))\n",
    "    plt.show()"
   ]
  },
  {
   "cell_type": "code",
   "execution_count": 18,
   "metadata": {
    "execution": {
     "iopub.execute_input": "2021-11-01T07:15:18.545875Z",
     "iopub.status.busy": "2021-11-01T07:15:18.545601Z",
     "iopub.status.idle": "2021-11-01T07:15:19.448868Z",
     "shell.execute_reply": "2021-11-01T07:15:19.447925Z",
     "shell.execute_reply.started": "2021-11-01T07:15:18.545846Z"
    }
   },
   "outputs": [
    {
     "data": {
      "image/png": "[encoded data removed]",
      "text/plain": [
       "<Figure size 1080x1080 with 2 Axes>"
      ]
     },
     "metadata": {
      "needs_background": "light"
     },
     "output_type": "display_data"
    }
   ],
   "source": [
    "plot_confusion_matrix(cm=mat,\n",
    "                      target_names=mapping,\n",
    "                      title='Confusion matrix',\n",
    "                      cmap=None,\n",
    "                      normalize=False, \n",
    "                      size_mat=(15, 15))"
   ]
  }
 ],
 "metadata": {
  "kernelspec": {
   "display_name": "Python 3",
   "language": "python",
   "name": "python3"
  },
  "language_info": {
   "codemirror_mode": {
    "name": "ipython",
    "version": 3
   },
   "file_extension": ".py",
   "mimetype": "text/x-python",
   "name": "python",
   "nbconvert_exporter": "python",
   "pygments_lexer": "ipython3",
   "version": "3.8.5"
  }
 },
 "nbformat": 4,
 "nbformat_minor": 4
}
