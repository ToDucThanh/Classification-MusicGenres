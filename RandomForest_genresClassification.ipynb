{
 "cells": [
  {
   "cell_type": "code",
   "execution_count": 1,
   "metadata": {
    "execution": {
     "iopub.execute_input": "2021-11-01T07:01:17.397782Z",
     "iopub.status.busy": "2021-11-01T07:01:17.397302Z",
     "iopub.status.idle": "2021-11-01T07:01:18.391375Z",
     "shell.execute_reply": "2021-11-01T07:01:18.390322Z",
     "shell.execute_reply.started": "2021-11-01T07:01:17.397672Z"
    }
   },
   "outputs": [],
   "source": [
    "from sklearn.model_selection import train_test_split\n",
    "import numpy as np\n",
    "import json"
   ]
  },
  {
   "cell_type": "code",
   "execution_count": 2,
   "metadata": {
    "execution": {
     "iopub.execute_input": "2021-11-01T07:01:22.176513Z",
     "iopub.status.busy": "2021-11-01T07:01:22.176224Z",
     "iopub.status.idle": "2021-11-01T07:01:22.182403Z",
     "shell.execute_reply": "2021-11-01T07:01:22.181463Z",
     "shell.execute_reply.started": "2021-11-01T07:01:22.176484Z"
    }
   },
   "outputs": [],
   "source": [
    "def load_data(dataset_path):\n",
    "    with open(dataset_path, 'r') as f:\n",
    "        data = json.load(f)\n",
    "    X = np.array(data['mfcc'])\n",
    "    y = np.array(data['labels'])\n",
    "    return X, y"
   ]
  },
  {
   "cell_type": "code",
   "execution_count": 3,
   "metadata": {
    "execution": {
     "iopub.execute_input": "2021-11-01T07:01:25.123913Z",
     "iopub.status.busy": "2021-11-01T07:01:25.123480Z",
     "iopub.status.idle": "2021-11-01T07:01:54.321169Z",
     "shell.execute_reply": "2021-11-01T07:01:54.320035Z",
     "shell.execute_reply.started": "2021-11-01T07:01:25.123878Z"
    }
   },
   "outputs": [],
   "source": [
    "json_path = \"../input/data-json/data_10.json\"\n",
    "X, y = load_data(json_path)\n",
    "X_train, X_test, y_train, y_test = train_test_split(X, y, test_size=0.25)\n",
    "X_train, X_val, y_train, y_val = train_test_split(X_train, y_train, test_size=0.2)"
   ]
  },
  {
   "cell_type": "code",
   "execution_count": 4,
   "metadata": {
    "execution": {
     "iopub.execute_input": "2021-11-01T07:01:59.892225Z",
     "iopub.status.busy": "2021-11-01T07:01:59.891875Z",
     "iopub.status.idle": "2021-11-01T07:01:59.901893Z",
     "shell.execute_reply": "2021-11-01T07:01:59.900818Z",
     "shell.execute_reply.started": "2021-11-01T07:01:59.892185Z"
    }
   },
   "outputs": [
    {
     "data": {
      "text/plain": [
       "(5991, 130, 13)"
      ]
     },
     "execution_count": 4,
     "metadata": {},
     "output_type": "execute_result"
    }
   ],
   "source": [
    "X_train.shape"
   ]
  },
  {
   "cell_type": "code",
   "execution_count": 5,
   "metadata": {
    "execution": {
     "iopub.execute_input": "2021-11-01T07:02:07.839539Z",
     "iopub.status.busy": "2021-11-01T07:02:07.838748Z",
     "iopub.status.idle": "2021-11-01T07:02:07.844489Z",
     "shell.execute_reply": "2021-11-01T07:02:07.843294Z",
     "shell.execute_reply.started": "2021-11-01T07:02:07.839493Z"
    }
   },
   "outputs": [],
   "source": [
    "X_train = X_train.reshape((X_train.shape[0], X_train.shape[1]*X_train.shape[2]))"
   ]
  },
  {
   "cell_type": "code",
   "execution_count": 6,
   "metadata": {
    "execution": {
     "iopub.execute_input": "2021-11-01T07:02:10.029945Z",
     "iopub.status.busy": "2021-11-01T07:02:10.029648Z",
     "iopub.status.idle": "2021-11-01T07:02:10.036391Z",
     "shell.execute_reply": "2021-11-01T07:02:10.035330Z",
     "shell.execute_reply.started": "2021-11-01T07:02:10.029913Z"
    }
   },
   "outputs": [
    {
     "data": {
      "text/plain": [
       "(5991, 1690)"
      ]
     },
     "execution_count": 6,
     "metadata": {},
     "output_type": "execute_result"
    }
   ],
   "source": [
    "X_train.shape"
   ]
  },
  {
   "cell_type": "code",
   "execution_count": 7,
   "metadata": {
    "execution": {
     "iopub.execute_input": "2021-11-01T07:02:21.970735Z",
     "iopub.status.busy": "2021-11-01T07:02:21.970451Z",
     "iopub.status.idle": "2021-11-01T07:02:45.632355Z",
     "shell.execute_reply": "2021-11-01T07:02:45.631401Z",
     "shell.execute_reply.started": "2021-11-01T07:02:21.970698Z"
    }
   },
   "outputs": [
    {
     "data": {
      "text/plain": [
       "RandomForestClassifier(max_depth=40, random_state=44)"
      ]
     },
     "execution_count": 7,
     "metadata": {},
     "output_type": "execute_result"
    }
   ],
   "source": [
    "from sklearn.ensemble import RandomForestClassifier\n",
    "clf = RandomForestClassifier(max_depth=40, random_state=44)\n",
    "clf.fit(X_train, y_train)"
   ]
  },
  {
   "cell_type": "code",
   "execution_count": 9,
   "metadata": {
    "execution": {
     "iopub.execute_input": "2021-11-01T07:03:44.898367Z",
     "iopub.status.busy": "2021-11-01T07:03:44.897785Z",
     "iopub.status.idle": "2021-11-01T07:03:44.904515Z",
     "shell.execute_reply": "2021-11-01T07:03:44.903586Z",
     "shell.execute_reply.started": "2021-11-01T07:03:44.898313Z"
    }
   },
   "outputs": [],
   "source": [
    "X_val = X_val.reshape((X_val.shape[0], X_val.shape[1]*X_val.shape[2]))\n",
    "X_test = X_test.reshape((X_test.shape[0], X_test.shape[1]*X_test.shape[2]))"
   ]
  },
  {
   "cell_type": "code",
   "execution_count": 10,
   "metadata": {
    "execution": {
     "iopub.execute_input": "2021-11-01T07:03:47.127177Z",
     "iopub.status.busy": "2021-11-01T07:03:47.126897Z",
     "iopub.status.idle": "2021-11-01T07:03:47.216498Z",
     "shell.execute_reply": "2021-11-01T07:03:47.215598Z",
     "shell.execute_reply.started": "2021-11-01T07:03:47.127149Z"
    }
   },
   "outputs": [
    {
     "data": {
      "text/plain": [
       "0.562082777036048"
      ]
     },
     "execution_count": 10,
     "metadata": {},
     "output_type": "execute_result"
    }
   ],
   "source": [
    "clf.score(X_val, y_val)"
   ]
  },
  {
   "cell_type": "code",
   "execution_count": 11,
   "metadata": {
    "execution": {
     "iopub.execute_input": "2021-11-01T07:03:49.377504Z",
     "iopub.status.busy": "2021-11-01T07:03:49.377095Z",
     "iopub.status.idle": "2021-11-01T07:03:49.507329Z",
     "shell.execute_reply": "2021-11-01T07:03:49.506407Z",
     "shell.execute_reply.started": "2021-11-01T07:03:49.377474Z"
    }
   },
   "outputs": [
    {
     "data": {
      "text/plain": [
       "0.5538646375650781"
      ]
     },
     "execution_count": 11,
     "metadata": {},
     "output_type": "execute_result"
    }
   ],
   "source": [
    "clf.score(X_test, y_test)"
   ]
  }
 ],
 "metadata": {
  "kernelspec": {
   "display_name": "Python 3",
   "language": "python",
   "name": "python3"
  },
  "language_info": {
   "codemirror_mode": {
    "name": "ipython",
    "version": 3
   },
   "file_extension": ".py",
   "mimetype": "text/x-python",
   "name": "python",
   "nbconvert_exporter": "python",
   "pygments_lexer": "ipython3",
   "version": "3.8.5"
  }
 },
 "nbformat": 4,
 "nbformat_minor": 4
}
