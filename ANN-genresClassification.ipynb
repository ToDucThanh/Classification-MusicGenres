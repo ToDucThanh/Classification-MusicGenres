{
 "cells": [
  {
   "cell_type": "code",
   "execution_count": 1,
   "metadata": {
    "execution": {
     "iopub.execute_input": "2021-10-26T17:20:02.608879Z",
     "iopub.status.busy": "2021-10-26T17:20:02.608545Z",
     "iopub.status.idle": "2021-10-26T17:20:02.633582Z",
     "shell.execute_reply": "2021-10-26T17:20:02.632719Z",
     "shell.execute_reply.started": "2021-10-26T17:20:02.608777Z"
    }
   },
   "outputs": [],
   "source": [
    "import json\n",
    "import numpy as np\n",
    "def load_data(dataset_path):\n",
    "    with open(dataset_path, \"r\") as f:\n",
    "        data = json.load(f)\n",
    "    \n",
    "    # Convert lists into numpy\n",
    "    inputs = np.array(data[\"mfcc\"])\n",
    "    targets = np.array(data[\"labels\"])\n",
    "    \n",
    "    return inputs, targets"
   ]
  },
  {
   "cell_type": "code",
   "execution_count": 2,
   "metadata": {
    "execution": {
     "iopub.execute_input": "2021-10-26T17:20:05.703519Z",
     "iopub.status.busy": "2021-10-26T17:20:05.702968Z",
     "iopub.status.idle": "2021-10-26T17:20:27.269179Z",
     "shell.execute_reply": "2021-10-26T17:20:27.268372Z",
     "shell.execute_reply.started": "2021-10-26T17:20:05.703482Z"
    }
   },
   "outputs": [],
   "source": [
    "dataset_path = \"../input/data-json/data_10.json\"\n",
    "X, y = load_data(dataset_path)"
   ]
  },
  {
   "cell_type": "code",
   "execution_count": 5,
   "metadata": {
    "execution": {
     "iopub.execute_input": "2021-10-26T17:08:11.085787Z",
     "iopub.status.busy": "2021-10-26T17:08:11.083741Z",
     "iopub.status.idle": "2021-10-26T17:08:11.092844Z",
     "shell.execute_reply": "2021-10-26T17:08:11.092159Z",
     "shell.execute_reply.started": "2021-10-26T17:08:11.085755Z"
    }
   },
   "outputs": [
    {
     "data": {
      "text/plain": [
       "((9986, 130, 13), (9986,))"
      ]
     },
     "execution_count": 5,
     "metadata": {},
     "output_type": "execute_result"
    }
   ],
   "source": [
    "X.shape, y.shape"
   ]
  },
  {
   "cell_type": "code",
   "execution_count": 4,
   "metadata": {
    "execution": {
     "iopub.execute_input": "2021-10-26T17:21:53.351994Z",
     "iopub.status.busy": "2021-10-26T17:21:53.351579Z",
     "iopub.status.idle": "2021-10-26T17:21:53.404063Z",
     "shell.execute_reply": "2021-10-26T17:21:53.403226Z",
     "shell.execute_reply.started": "2021-10-26T17:21:53.351950Z"
    }
   },
   "outputs": [],
   "source": [
    "# Split data into train and test sets\n",
    "from sklearn.model_selection import train_test_split\n",
    "X_train, X_test, y_train, y_test = train_test_split(X, y, test_size=0.2)"
   ]
  },
  {
   "cell_type": "code",
   "execution_count": 7,
   "metadata": {
    "execution": {
     "iopub.execute_input": "2021-10-26T17:23:05.567407Z",
     "iopub.status.busy": "2021-10-26T17:23:05.566659Z",
     "iopub.status.idle": "2021-10-26T17:23:05.612456Z",
     "shell.execute_reply": "2021-10-26T17:23:05.611831Z",
     "shell.execute_reply.started": "2021-10-26T17:23:05.567357Z"
    }
   },
   "outputs": [],
   "source": [
    "# Build ANN\n",
    "from tensorflow import keras\n",
    "model = keras.Sequential([\n",
    "    keras.layers.Flatten(input_shape=(X.shape[1], X.shape[2])),\n",
    "    keras.layers.Dense(512, activation=\"relu\"),\n",
    "    keras.layers.Dense(216, activation=\"relu\"),\n",
    "    keras.layers.Dense(64, activation=\"relu\"),\n",
    "    keras.layers.Dense(10, activation=\"softmax\")\n",
    "])\n",
    "optimizer = keras.optimizers.Adam(learning_rate=0.0001)\n",
    "model.compile(optimizer=optimizer, loss=\"sparse_categorical_crossentropy\", metrics=[\"accuracy\"])\n"
   ]
  },
  {
   "cell_type": "code",
   "execution_count": 16,
   "metadata": {
    "execution": {
     "iopub.execute_input": "2021-10-26T17:10:54.707935Z",
     "iopub.status.busy": "2021-10-26T17:10:54.707414Z",
     "iopub.status.idle": "2021-10-26T17:10:54.716806Z",
     "shell.execute_reply": "2021-10-26T17:10:54.716059Z",
     "shell.execute_reply.started": "2021-10-26T17:10:54.707899Z"
    }
   },
   "outputs": [
    {
     "name": "stdout",
     "output_type": "stream",
     "text": [
      "Model: \"sequential_3\"\n",
      "_________________________________________________________________\n",
      "Layer (type)                 Output Shape              Param #   \n",
      "=================================================================\n",
      "flatten_3 (Flatten)          (None, 1690)              0         \n",
      "_________________________________________________________________\n",
      "dense_12 (Dense)             (None, 512)               865792    \n",
      "_________________________________________________________________\n",
      "dense_13 (Dense)             (None, 216)               110808    \n",
      "_________________________________________________________________\n",
      "dense_14 (Dense)             (None, 64)                13888     \n",
      "_________________________________________________________________\n",
      "dense_15 (Dense)             (None, 10)                650       \n",
      "=================================================================\n",
      "Total params: 991,138\n",
      "Trainable params: 991,138\n",
      "Non-trainable params: 0\n",
      "_________________________________________________________________\n"
     ]
    }
   ],
   "source": [
    "model.summary()"
   ]
  },
  {
   "cell_type": "code",
   "execution_count": 17,
   "metadata": {
    "execution": {
     "iopub.execute_input": "2021-10-26T17:11:10.212529Z",
     "iopub.status.busy": "2021-10-26T17:11:10.211984Z",
     "iopub.status.idle": "2021-10-26T17:11:44.722300Z",
     "shell.execute_reply": "2021-10-26T17:11:44.721470Z",
     "shell.execute_reply.started": "2021-10-26T17:11:10.212492Z"
    }
   },
   "outputs": [
    {
     "name": "stdout",
     "output_type": "stream",
     "text": [
      "Epoch 1/50\n",
      "250/250 [==============================] - 1s 3ms/step - loss: 6.7609 - accuracy: 0.2893 - val_loss: 2.4122 - val_accuracy: 0.2978\n",
      "Epoch 2/50\n",
      "250/250 [==============================] - 1s 4ms/step - loss: 2.1091 - accuracy: 0.2858 - val_loss: 2.0763 - val_accuracy: 0.3298\n",
      "Epoch 3/50\n",
      "250/250 [==============================] - 1s 3ms/step - loss: 1.8831 - accuracy: 0.3552 - val_loss: 2.1477 - val_accuracy: 0.2818\n",
      "Epoch 4/50\n",
      "250/250 [==============================] - 1s 3ms/step - loss: 1.7224 - accuracy: 0.4057 - val_loss: 1.9988 - val_accuracy: 0.3639\n",
      "Epoch 5/50\n",
      "250/250 [==============================] - 1s 2ms/step - loss: 1.6202 - accuracy: 0.4412 - val_loss: 1.9087 - val_accuracy: 0.3889\n",
      "Epoch 6/50\n",
      "250/250 [==============================] - 1s 2ms/step - loss: 1.5402 - accuracy: 0.4666 - val_loss: 1.9149 - val_accuracy: 0.3964\n",
      "Epoch 7/50\n",
      "250/250 [==============================] - 1s 2ms/step - loss: 1.4527 - accuracy: 0.4961 - val_loss: 1.8449 - val_accuracy: 0.4204\n",
      "Epoch 8/50\n",
      "250/250 [==============================] - 1s 3ms/step - loss: 1.3640 - accuracy: 0.5284 - val_loss: 1.8699 - val_accuracy: 0.4284\n",
      "Epoch 9/50\n",
      "250/250 [==============================] - 1s 3ms/step - loss: 1.3107 - accuracy: 0.5439 - val_loss: 1.8569 - val_accuracy: 0.4600\n",
      "Epoch 10/50\n",
      "250/250 [==============================] - 1s 3ms/step - loss: 1.3167 - accuracy: 0.5454 - val_loss: 1.8103 - val_accuracy: 0.4505\n",
      "Epoch 11/50\n",
      "250/250 [==============================] - 1s 3ms/step - loss: 1.1671 - accuracy: 0.5913 - val_loss: 1.9449 - val_accuracy: 0.4650\n",
      "Epoch 12/50\n",
      "250/250 [==============================] - 1s 3ms/step - loss: 1.1348 - accuracy: 0.5995 - val_loss: 1.8657 - val_accuracy: 0.4675\n",
      "Epoch 13/50\n",
      "250/250 [==============================] - 1s 3ms/step - loss: 1.0814 - accuracy: 0.6176 - val_loss: 1.8213 - val_accuracy: 0.4805\n",
      "Epoch 14/50\n",
      "250/250 [==============================] - 1s 3ms/step - loss: 1.0259 - accuracy: 0.6395 - val_loss: 1.9822 - val_accuracy: 0.4665\n",
      "Epoch 15/50\n",
      "250/250 [==============================] - 1s 3ms/step - loss: 1.0006 - accuracy: 0.6467 - val_loss: 1.7464 - val_accuracy: 0.5025\n",
      "Epoch 16/50\n",
      "250/250 [==============================] - 1s 3ms/step - loss: 0.9304 - accuracy: 0.6651 - val_loss: 1.8381 - val_accuracy: 0.5150\n",
      "Epoch 17/50\n",
      "250/250 [==============================] - 1s 3ms/step - loss: 0.8831 - accuracy: 0.6811 - val_loss: 1.8833 - val_accuracy: 0.4835\n",
      "Epoch 18/50\n",
      "250/250 [==============================] - 1s 3ms/step - loss: 0.8413 - accuracy: 0.7016 - val_loss: 1.9197 - val_accuracy: 0.5100\n",
      "Epoch 19/50\n",
      "250/250 [==============================] - 1s 3ms/step - loss: 0.7773 - accuracy: 0.7218 - val_loss: 1.7622 - val_accuracy: 0.5180\n",
      "Epoch 20/50\n",
      "250/250 [==============================] - 1s 3ms/step - loss: 0.7513 - accuracy: 0.7318 - val_loss: 1.7912 - val_accuracy: 0.5230\n",
      "Epoch 21/50\n",
      "250/250 [==============================] - 1s 3ms/step - loss: 0.7200 - accuracy: 0.7416 - val_loss: 1.9437 - val_accuracy: 0.4975\n",
      "Epoch 22/50\n",
      "250/250 [==============================] - 1s 2ms/step - loss: 0.6503 - accuracy: 0.7624 - val_loss: 1.8979 - val_accuracy: 0.5410\n",
      "Epoch 23/50\n",
      "250/250 [==============================] - 1s 3ms/step - loss: 0.6908 - accuracy: 0.7495 - val_loss: 1.8175 - val_accuracy: 0.5521\n",
      "Epoch 24/50\n",
      "250/250 [==============================] - 1s 3ms/step - loss: 0.6060 - accuracy: 0.7819 - val_loss: 1.9778 - val_accuracy: 0.5205\n",
      "Epoch 25/50\n",
      "250/250 [==============================] - 1s 3ms/step - loss: 0.5797 - accuracy: 0.7898 - val_loss: 1.9386 - val_accuracy: 0.5455\n",
      "Epoch 26/50\n",
      "250/250 [==============================] - 1s 3ms/step - loss: 0.5602 - accuracy: 0.7983 - val_loss: 1.9795 - val_accuracy: 0.5661\n",
      "Epoch 27/50\n",
      "250/250 [==============================] - 1s 3ms/step - loss: 0.5177 - accuracy: 0.8102 - val_loss: 2.0325 - val_accuracy: 0.5511\n",
      "Epoch 28/50\n",
      "250/250 [==============================] - 1s 3ms/step - loss: 0.5218 - accuracy: 0.8138 - val_loss: 2.0569 - val_accuracy: 0.5310\n",
      "Epoch 29/50\n",
      "250/250 [==============================] - 1s 3ms/step - loss: 0.4921 - accuracy: 0.8220 - val_loss: 1.8736 - val_accuracy: 0.5531\n",
      "Epoch 30/50\n",
      "250/250 [==============================] - 1s 3ms/step - loss: 0.4236 - accuracy: 0.8453 - val_loss: 2.1619 - val_accuracy: 0.5385\n",
      "Epoch 31/50\n",
      "250/250 [==============================] - 1s 3ms/step - loss: 0.4078 - accuracy: 0.8475 - val_loss: 2.0280 - val_accuracy: 0.5646\n",
      "Epoch 32/50\n",
      "250/250 [==============================] - 1s 2ms/step - loss: 0.3878 - accuracy: 0.8583 - val_loss: 2.0290 - val_accuracy: 0.5626\n",
      "Epoch 33/50\n",
      "250/250 [==============================] - 1s 2ms/step - loss: 0.3664 - accuracy: 0.8714 - val_loss: 2.0243 - val_accuracy: 0.5726\n",
      "Epoch 34/50\n",
      "250/250 [==============================] - 1s 3ms/step - loss: 0.3554 - accuracy: 0.8693 - val_loss: 2.0949 - val_accuracy: 0.5551\n",
      "Epoch 35/50\n",
      "250/250 [==============================] - 1s 2ms/step - loss: 0.3019 - accuracy: 0.8897 - val_loss: 1.8957 - val_accuracy: 0.5666\n",
      "Epoch 36/50\n",
      "250/250 [==============================] - 1s 3ms/step - loss: 0.3152 - accuracy: 0.8893 - val_loss: 2.1272 - val_accuracy: 0.5681\n",
      "Epoch 37/50\n",
      "250/250 [==============================] - 1s 3ms/step - loss: 0.2881 - accuracy: 0.8931 - val_loss: 2.1787 - val_accuracy: 0.5666\n",
      "Epoch 38/50\n",
      "250/250 [==============================] - 1s 3ms/step - loss: 0.2561 - accuracy: 0.9075 - val_loss: 2.2880 - val_accuracy: 0.5791\n",
      "Epoch 39/50\n",
      "250/250 [==============================] - 1s 3ms/step - loss: 0.2608 - accuracy: 0.9077 - val_loss: 2.2231 - val_accuracy: 0.5746\n",
      "Epoch 40/50\n",
      "250/250 [==============================] - 1s 2ms/step - loss: 0.2600 - accuracy: 0.9040 - val_loss: 2.2432 - val_accuracy: 0.5736\n",
      "Epoch 41/50\n",
      "250/250 [==============================] - 1s 3ms/step - loss: 0.2355 - accuracy: 0.9157 - val_loss: 2.2355 - val_accuracy: 0.5746\n",
      "Epoch 42/50\n",
      "250/250 [==============================] - 1s 2ms/step - loss: 0.1997 - accuracy: 0.9314 - val_loss: 2.2520 - val_accuracy: 0.5826\n",
      "Epoch 43/50\n",
      "250/250 [==============================] - 1s 3ms/step - loss: 0.2154 - accuracy: 0.9249 - val_loss: 2.1984 - val_accuracy: 0.5906\n",
      "Epoch 44/50\n",
      "250/250 [==============================] - 1s 3ms/step - loss: 0.2086 - accuracy: 0.9278 - val_loss: 2.3264 - val_accuracy: 0.5896\n",
      "Epoch 45/50\n",
      "250/250 [==============================] - 1s 3ms/step - loss: 0.1703 - accuracy: 0.9397 - val_loss: 2.3684 - val_accuracy: 0.5826\n",
      "Epoch 46/50\n",
      "250/250 [==============================] - 1s 4ms/step - loss: 0.2369 - accuracy: 0.9165 - val_loss: 2.3596 - val_accuracy: 0.5601\n",
      "Epoch 47/50\n",
      "250/250 [==============================] - 1s 3ms/step - loss: 0.1820 - accuracy: 0.9338 - val_loss: 2.4093 - val_accuracy: 0.5716\n",
      "Epoch 48/50\n",
      "250/250 [==============================] - 1s 3ms/step - loss: 0.1528 - accuracy: 0.9483 - val_loss: 2.3404 - val_accuracy: 0.6061\n",
      "Epoch 49/50\n",
      "250/250 [==============================] - 1s 2ms/step - loss: 0.1236 - accuracy: 0.9579 - val_loss: 2.8179 - val_accuracy: 0.5921\n",
      "Epoch 50/50\n",
      "250/250 [==============================] - 1s 4ms/step - loss: 0.1597 - accuracy: 0.9410 - val_loss: 2.7908 - val_accuracy: 0.5901\n"
     ]
    }
   ],
   "source": [
    "history = model.fit(X_train, y_train, validation_data=(X_test, y_test), batch_size=32, epochs=50)"
   ]
  },
  {
   "cell_type": "code",
   "execution_count": null,
   "metadata": {},
   "outputs": [],
   "source": [
    "# Overfitting"
   ]
  },
  {
   "cell_type": "code",
   "execution_count": 27,
   "metadata": {
    "execution": {
     "iopub.execute_input": "2021-10-26T17:34:53.577718Z",
     "iopub.status.busy": "2021-10-26T17:34:53.577473Z",
     "iopub.status.idle": "2021-10-26T17:34:53.631167Z",
     "shell.execute_reply": "2021-10-26T17:34:53.630482Z",
     "shell.execute_reply.started": "2021-10-26T17:34:53.577689Z"
    }
   },
   "outputs": [],
   "source": [
    "# Solve the overfitting\n",
    "\n",
    "model2 = keras.Sequential([\n",
    "    keras.layers.Flatten(input_shape=(X.shape[1], X.shape[2])),\n",
    "    keras.layers.Dense(512, activation=\"relu\", kernel_regularizer=keras.regularizers.l2(0.001)),\n",
    "    keras.layers.Dropout(0.3),\n",
    "    keras.layers.Dense(216, activation=\"relu\", kernel_regularizer=keras.regularizers.l2(0.001)),\n",
    "    keras.layers.Dropout(0.3),\n",
    "    keras.layers.Dense(64, activation=\"relu\", kernel_regularizer=keras.regularizers.l2(0.001)),\n",
    "    keras.layers.Dropout(0.3),\n",
    "    keras.layers.Dense(10, activation=\"softmax\") \n",
    "])\n",
    "model2.compile(optimizer=optimizer, loss=\"sparse_categorical_crossentropy\", metrics=[\"accuracy\"])"
   ]
  },
  {
   "cell_type": "code",
   "execution_count": 28,
   "metadata": {
    "execution": {
     "iopub.execute_input": "2021-10-26T17:34:57.800335Z",
     "iopub.status.busy": "2021-10-26T17:34:57.800070Z",
     "iopub.status.idle": "2021-10-26T17:36:17.253627Z",
     "shell.execute_reply": "2021-10-26T17:36:17.252960Z",
     "shell.execute_reply.started": "2021-10-26T17:34:57.800305Z"
    }
   },
   "outputs": [
    {
     "name": "stdout",
     "output_type": "stream",
     "text": [
      "Epoch 1/100\n",
      "250/250 [==============================] - 1s 4ms/step - loss: 12.1625 - accuracy: 0.1376 - val_loss: 3.4354 - val_accuracy: 0.1116\n",
      "Epoch 2/100\n",
      "250/250 [==============================] - 1s 3ms/step - loss: 3.8686 - accuracy: 0.1345 - val_loss: 3.4180 - val_accuracy: 0.1251\n",
      "Epoch 3/100\n",
      "250/250 [==============================] - 1s 3ms/step - loss: 3.5705 - accuracy: 0.1456 - val_loss: 3.3629 - val_accuracy: 0.1421\n",
      "Epoch 4/100\n",
      "250/250 [==============================] - 1s 3ms/step - loss: 3.4938 - accuracy: 0.1532 - val_loss: 3.3764 - val_accuracy: 0.1316\n",
      "Epoch 5/100\n",
      "250/250 [==============================] - 1s 3ms/step - loss: 3.4203 - accuracy: 0.1540 - val_loss: 3.3255 - val_accuracy: 0.1512\n",
      "Epoch 6/100\n",
      "250/250 [==============================] - 1s 3ms/step - loss: 3.3805 - accuracy: 0.1660 - val_loss: 3.2898 - val_accuracy: 0.1682\n",
      "Epoch 7/100\n",
      "250/250 [==============================] - 1s 3ms/step - loss: 3.3397 - accuracy: 0.1721 - val_loss: 3.2996 - val_accuracy: 0.1522\n",
      "Epoch 8/100\n",
      "250/250 [==============================] - 1s 3ms/step - loss: 3.3133 - accuracy: 0.1759 - val_loss: 3.2551 - val_accuracy: 0.1672\n",
      "Epoch 9/100\n",
      "250/250 [==============================] - 1s 3ms/step - loss: 3.2619 - accuracy: 0.1869 - val_loss: 3.2245 - val_accuracy: 0.1822\n",
      "Epoch 10/100\n",
      "250/250 [==============================] - 1s 4ms/step - loss: 3.2297 - accuracy: 0.1898 - val_loss: 3.1792 - val_accuracy: 0.1937\n",
      "Epoch 11/100\n",
      "250/250 [==============================] - 1s 3ms/step - loss: 3.1811 - accuracy: 0.2132 - val_loss: 3.1546 - val_accuracy: 0.2147\n",
      "Epoch 12/100\n",
      "250/250 [==============================] - 1s 3ms/step - loss: 3.1549 - accuracy: 0.2141 - val_loss: 3.1096 - val_accuracy: 0.2182\n",
      "Epoch 13/100\n",
      "250/250 [==============================] - 1s 3ms/step - loss: 3.1273 - accuracy: 0.2171 - val_loss: 3.0933 - val_accuracy: 0.2197\n",
      "Epoch 14/100\n",
      "250/250 [==============================] - 1s 3ms/step - loss: 3.0771 - accuracy: 0.2252 - val_loss: 3.0753 - val_accuracy: 0.2197\n",
      "Epoch 15/100\n",
      "250/250 [==============================] - 1s 3ms/step - loss: 3.0608 - accuracy: 0.2271 - val_loss: 3.0396 - val_accuracy: 0.2337\n",
      "Epoch 16/100\n",
      "250/250 [==============================] - 1s 3ms/step - loss: 3.0201 - accuracy: 0.2342 - val_loss: 3.0051 - val_accuracy: 0.2352\n",
      "Epoch 17/100\n",
      "250/250 [==============================] - 1s 3ms/step - loss: 2.9969 - accuracy: 0.2364 - val_loss: 3.0053 - val_accuracy: 0.2227\n",
      "Epoch 18/100\n",
      "250/250 [==============================] - 1s 3ms/step - loss: 2.9655 - accuracy: 0.2374 - val_loss: 2.9361 - val_accuracy: 0.2367\n",
      "Epoch 19/100\n",
      "250/250 [==============================] - 1s 3ms/step - loss: 2.9176 - accuracy: 0.2462 - val_loss: 2.9051 - val_accuracy: 0.2422\n",
      "Epoch 20/100\n",
      "250/250 [==============================] - 1s 3ms/step - loss: 2.8947 - accuracy: 0.2457 - val_loss: 2.8870 - val_accuracy: 0.2387\n",
      "Epoch 21/100\n",
      "250/250 [==============================] - 1s 3ms/step - loss: 2.8443 - accuracy: 0.2535 - val_loss: 2.8429 - val_accuracy: 0.2598\n",
      "Epoch 22/100\n",
      "250/250 [==============================] - 1s 3ms/step - loss: 2.8213 - accuracy: 0.2521 - val_loss: 2.8414 - val_accuracy: 0.2347\n",
      "Epoch 23/100\n",
      "250/250 [==============================] - 1s 3ms/step - loss: 2.7713 - accuracy: 0.2584 - val_loss: 2.7691 - val_accuracy: 0.2538\n",
      "Epoch 24/100\n",
      "250/250 [==============================] - 1s 4ms/step - loss: 2.7466 - accuracy: 0.2618 - val_loss: 2.7352 - val_accuracy: 0.2648\n",
      "Epoch 25/100\n",
      "250/250 [==============================] - 1s 3ms/step - loss: 2.7074 - accuracy: 0.2718 - val_loss: 2.7216 - val_accuracy: 0.2723\n",
      "Epoch 26/100\n",
      "250/250 [==============================] - 1s 3ms/step - loss: 2.6813 - accuracy: 0.2739 - val_loss: 2.6780 - val_accuracy: 0.2803\n",
      "Epoch 27/100\n",
      "250/250 [==============================] - 1s 3ms/step - loss: 2.6393 - accuracy: 0.2735 - val_loss: 2.6223 - val_accuracy: 0.2813\n",
      "Epoch 28/100\n",
      "250/250 [==============================] - 1s 4ms/step - loss: 2.6064 - accuracy: 0.2804 - val_loss: 2.6081 - val_accuracy: 0.2828\n",
      "Epoch 29/100\n",
      "250/250 [==============================] - 1s 4ms/step - loss: 2.5512 - accuracy: 0.2929 - val_loss: 2.5540 - val_accuracy: 0.2993\n",
      "Epoch 30/100\n",
      "250/250 [==============================] - 1s 3ms/step - loss: 2.5245 - accuracy: 0.2913 - val_loss: 2.5352 - val_accuracy: 0.3018\n",
      "Epoch 31/100\n",
      "250/250 [==============================] - 1s 3ms/step - loss: 2.4848 - accuracy: 0.3023 - val_loss: 2.5070 - val_accuracy: 0.3028\n",
      "Epoch 32/100\n",
      "250/250 [==============================] - 1s 3ms/step - loss: 2.4437 - accuracy: 0.3220 - val_loss: 2.3319 - val_accuracy: 0.3939\n",
      "Epoch 33/100\n",
      "250/250 [==============================] - 1s 3ms/step - loss: 2.3858 - accuracy: 0.3370 - val_loss: 2.3842 - val_accuracy: 0.3954\n",
      "Epoch 34/100\n",
      "250/250 [==============================] - 1s 3ms/step - loss: 2.3378 - accuracy: 0.3523 - val_loss: 2.2472 - val_accuracy: 0.3929\n",
      "Epoch 35/100\n",
      "250/250 [==============================] - 1s 3ms/step - loss: 2.2991 - accuracy: 0.3553 - val_loss: 2.2575 - val_accuracy: 0.4069\n",
      "Epoch 36/100\n",
      "250/250 [==============================] - 1s 3ms/step - loss: 2.2612 - accuracy: 0.3707 - val_loss: 2.2138 - val_accuracy: 0.3774\n",
      "Epoch 37/100\n",
      "250/250 [==============================] - 1s 4ms/step - loss: 2.2021 - accuracy: 0.3918 - val_loss: 2.1830 - val_accuracy: 0.4374\n",
      "Epoch 38/100\n",
      "250/250 [==============================] - 1s 3ms/step - loss: 2.1695 - accuracy: 0.4040 - val_loss: 2.1737 - val_accuracy: 0.4259\n",
      "Epoch 39/100\n",
      "250/250 [==============================] - 1s 3ms/step - loss: 2.1366 - accuracy: 0.4047 - val_loss: 2.0955 - val_accuracy: 0.4074\n",
      "Epoch 40/100\n",
      "250/250 [==============================] - 1s 3ms/step - loss: 2.0975 - accuracy: 0.4183 - val_loss: 2.0923 - val_accuracy: 0.4134\n",
      "Epoch 41/100\n",
      "250/250 [==============================] - 1s 3ms/step - loss: 2.0486 - accuracy: 0.4324 - val_loss: 2.0506 - val_accuracy: 0.4479\n",
      "Epoch 42/100\n",
      "250/250 [==============================] - 1s 3ms/step - loss: 2.0307 - accuracy: 0.4310 - val_loss: 2.0252 - val_accuracy: 0.4259\n",
      "Epoch 43/100\n",
      "250/250 [==============================] - 1s 3ms/step - loss: 1.9941 - accuracy: 0.4438 - val_loss: 2.0662 - val_accuracy: 0.4755\n",
      "Epoch 44/100\n",
      "250/250 [==============================] - 1s 3ms/step - loss: 1.9653 - accuracy: 0.4473 - val_loss: 2.0080 - val_accuracy: 0.4830\n",
      "Epoch 45/100\n",
      "250/250 [==============================] - 1s 3ms/step - loss: 1.9400 - accuracy: 0.4593 - val_loss: 1.9940 - val_accuracy: 0.4765\n",
      "Epoch 46/100\n",
      "250/250 [==============================] - 1s 3ms/step - loss: 1.8945 - accuracy: 0.4797 - val_loss: 1.9706 - val_accuracy: 0.4765\n",
      "Epoch 47/100\n",
      "250/250 [==============================] - 1s 3ms/step - loss: 1.8628 - accuracy: 0.4781 - val_loss: 1.9996 - val_accuracy: 0.4905\n",
      "Epoch 48/100\n",
      "250/250 [==============================] - 1s 3ms/step - loss: 1.8272 - accuracy: 0.4850 - val_loss: 1.9368 - val_accuracy: 0.4805\n",
      "Epoch 49/100\n",
      "250/250 [==============================] - 1s 3ms/step - loss: 1.8093 - accuracy: 0.4882 - val_loss: 1.9035 - val_accuracy: 0.5095\n",
      "Epoch 50/100\n",
      "250/250 [==============================] - 1s 3ms/step - loss: 1.7886 - accuracy: 0.4912 - val_loss: 1.9084 - val_accuracy: 0.5080\n",
      "Epoch 51/100\n",
      "250/250 [==============================] - 1s 4ms/step - loss: 1.7744 - accuracy: 0.5074 - val_loss: 1.9085 - val_accuracy: 0.5060\n",
      "Epoch 52/100\n",
      "250/250 [==============================] - 1s 3ms/step - loss: 1.7417 - accuracy: 0.5040 - val_loss: 1.9197 - val_accuracy: 0.4985\n",
      "Epoch 53/100\n",
      "250/250 [==============================] - 1s 3ms/step - loss: 1.7070 - accuracy: 0.5212 - val_loss: 1.8698 - val_accuracy: 0.5230\n",
      "Epoch 54/100\n",
      "250/250 [==============================] - 1s 3ms/step - loss: 1.6940 - accuracy: 0.5175 - val_loss: 1.8519 - val_accuracy: 0.5085\n",
      "Epoch 55/100\n",
      "250/250 [==============================] - 1s 3ms/step - loss: 1.6767 - accuracy: 0.5249 - val_loss: 1.8453 - val_accuracy: 0.5215\n",
      "Epoch 56/100\n",
      "250/250 [==============================] - 1s 3ms/step - loss: 1.6274 - accuracy: 0.5336 - val_loss: 1.8369 - val_accuracy: 0.5120\n",
      "Epoch 57/100\n",
      "250/250 [==============================] - 1s 3ms/step - loss: 1.6174 - accuracy: 0.5443 - val_loss: 1.8265 - val_accuracy: 0.5105\n",
      "Epoch 58/100\n",
      "250/250 [==============================] - 1s 3ms/step - loss: 1.5896 - accuracy: 0.5481 - val_loss: 1.8018 - val_accuracy: 0.5240\n",
      "Epoch 59/100\n",
      "250/250 [==============================] - 1s 3ms/step - loss: 1.5646 - accuracy: 0.5610 - val_loss: 1.7965 - val_accuracy: 0.5390\n",
      "Epoch 60/100\n",
      "250/250 [==============================] - 1s 3ms/step - loss: 1.5361 - accuracy: 0.5721 - val_loss: 1.7988 - val_accuracy: 0.5300\n",
      "Epoch 61/100\n",
      "250/250 [==============================] - 1s 3ms/step - loss: 1.5152 - accuracy: 0.5685 - val_loss: 1.8078 - val_accuracy: 0.5285\n",
      "Epoch 62/100\n",
      "250/250 [==============================] - 1s 3ms/step - loss: 1.5121 - accuracy: 0.5767 - val_loss: 1.7882 - val_accuracy: 0.5415\n",
      "Epoch 63/100\n",
      "250/250 [==============================] - 1s 3ms/step - loss: 1.4848 - accuracy: 0.5801 - val_loss: 1.7936 - val_accuracy: 0.5355\n",
      "Epoch 64/100\n",
      "250/250 [==============================] - 1s 3ms/step - loss: 1.4450 - accuracy: 0.5916 - val_loss: 1.8570 - val_accuracy: 0.5240\n",
      "Epoch 65/100\n",
      "250/250 [==============================] - 1s 4ms/step - loss: 1.4553 - accuracy: 0.5796 - val_loss: 1.7575 - val_accuracy: 0.5415\n",
      "Epoch 66/100\n",
      "250/250 [==============================] - 1s 3ms/step - loss: 1.4394 - accuracy: 0.5880 - val_loss: 1.7691 - val_accuracy: 0.5455\n",
      "Epoch 67/100\n",
      "250/250 [==============================] - 1s 3ms/step - loss: 1.3912 - accuracy: 0.6000 - val_loss: 1.7865 - val_accuracy: 0.5465\n",
      "Epoch 68/100\n",
      "250/250 [==============================] - 1s 4ms/step - loss: 1.3855 - accuracy: 0.6095 - val_loss: 1.7418 - val_accuracy: 0.5511\n",
      "Epoch 69/100\n",
      "250/250 [==============================] - 1s 3ms/step - loss: 1.3845 - accuracy: 0.6068 - val_loss: 1.7295 - val_accuracy: 0.5526\n",
      "Epoch 70/100\n",
      "250/250 [==============================] - 1s 3ms/step - loss: 1.3474 - accuracy: 0.6191 - val_loss: 1.7783 - val_accuracy: 0.5576\n",
      "Epoch 71/100\n",
      "250/250 [==============================] - 1s 3ms/step - loss: 1.3440 - accuracy: 0.6232 - val_loss: 1.7835 - val_accuracy: 0.5641\n",
      "Epoch 72/100\n",
      "250/250 [==============================] - 1s 3ms/step - loss: 1.3083 - accuracy: 0.6279 - val_loss: 1.7807 - val_accuracy: 0.5501\n",
      "Epoch 73/100\n",
      "250/250 [==============================] - 1s 3ms/step - loss: 1.3079 - accuracy: 0.6278 - val_loss: 1.7305 - val_accuracy: 0.5601\n",
      "Epoch 74/100\n",
      "250/250 [==============================] - 1s 3ms/step - loss: 1.2832 - accuracy: 0.6378 - val_loss: 1.7307 - val_accuracy: 0.5686\n",
      "Epoch 75/100\n",
      "250/250 [==============================] - 1s 3ms/step - loss: 1.2772 - accuracy: 0.6386 - val_loss: 1.7274 - val_accuracy: 0.5671\n",
      "Epoch 76/100\n",
      "250/250 [==============================] - 1s 3ms/step - loss: 1.2735 - accuracy: 0.6417 - val_loss: 1.7771 - val_accuracy: 0.5546\n",
      "Epoch 77/100\n",
      "250/250 [==============================] - 1s 3ms/step - loss: 1.2499 - accuracy: 0.6417 - val_loss: 1.7455 - val_accuracy: 0.5656\n",
      "Epoch 78/100\n",
      "250/250 [==============================] - 1s 3ms/step - loss: 1.2199 - accuracy: 0.6493 - val_loss: 1.7606 - val_accuracy: 0.5731\n",
      "Epoch 79/100\n",
      "250/250 [==============================] - 1s 4ms/step - loss: 1.2273 - accuracy: 0.6504 - val_loss: 1.7045 - val_accuracy: 0.5706\n",
      "Epoch 80/100\n",
      "250/250 [==============================] - 1s 3ms/step - loss: 1.1987 - accuracy: 0.6589 - val_loss: 1.7715 - val_accuracy: 0.5671\n",
      "Epoch 81/100\n",
      "250/250 [==============================] - 1s 3ms/step - loss: 1.1816 - accuracy: 0.6624 - val_loss: 1.7993 - val_accuracy: 0.5566\n",
      "Epoch 82/100\n",
      "250/250 [==============================] - 1s 3ms/step - loss: 1.1848 - accuracy: 0.6637 - val_loss: 1.7205 - val_accuracy: 0.5701\n",
      "Epoch 83/100\n",
      "250/250 [==============================] - 1s 3ms/step - loss: 1.1688 - accuracy: 0.6635 - val_loss: 1.7447 - val_accuracy: 0.5636\n",
      "Epoch 84/100\n",
      "250/250 [==============================] - 1s 3ms/step - loss: 1.1568 - accuracy: 0.6775 - val_loss: 1.7327 - val_accuracy: 0.5821\n",
      "Epoch 85/100\n",
      "250/250 [==============================] - 1s 3ms/step - loss: 1.1269 - accuracy: 0.6820 - val_loss: 1.7205 - val_accuracy: 0.5786\n",
      "Epoch 86/100\n",
      "250/250 [==============================] - 1s 3ms/step - loss: 1.1273 - accuracy: 0.6855 - val_loss: 1.7040 - val_accuracy: 0.5896\n",
      "Epoch 87/100\n",
      "250/250 [==============================] - 1s 3ms/step - loss: 1.1181 - accuracy: 0.6838 - val_loss: 1.6760 - val_accuracy: 0.5766\n",
      "Epoch 88/100\n",
      "250/250 [==============================] - 1s 3ms/step - loss: 1.0955 - accuracy: 0.6892 - val_loss: 1.7320 - val_accuracy: 0.5806\n",
      "Epoch 89/100\n",
      "250/250 [==============================] - 1s 3ms/step - loss: 1.1022 - accuracy: 0.6975 - val_loss: 1.7587 - val_accuracy: 0.5866\n",
      "Epoch 90/100\n",
      "250/250 [==============================] - 1s 3ms/step - loss: 1.0992 - accuracy: 0.6955 - val_loss: 1.7878 - val_accuracy: 0.5856\n",
      "Epoch 91/100\n",
      "250/250 [==============================] - 1s 3ms/step - loss: 1.0583 - accuracy: 0.7074 - val_loss: 1.7513 - val_accuracy: 0.5916\n",
      "Epoch 92/100\n",
      "250/250 [==============================] - 1s 3ms/step - loss: 1.0676 - accuracy: 0.7003 - val_loss: 1.6916 - val_accuracy: 0.5811\n",
      "Epoch 93/100\n",
      "250/250 [==============================] - 1s 3ms/step - loss: 1.0536 - accuracy: 0.7113 - val_loss: 1.7262 - val_accuracy: 0.5941\n",
      "Epoch 94/100\n",
      "250/250 [==============================] - 1s 4ms/step - loss: 1.0409 - accuracy: 0.7157 - val_loss: 1.7852 - val_accuracy: 0.5881\n",
      "Epoch 95/100\n",
      "250/250 [==============================] - 1s 3ms/step - loss: 1.0283 - accuracy: 0.7134 - val_loss: 1.7608 - val_accuracy: 0.5906\n",
      "Epoch 96/100\n",
      "250/250 [==============================] - 1s 3ms/step - loss: 1.0211 - accuracy: 0.7198 - val_loss: 1.7360 - val_accuracy: 0.5891\n",
      "Epoch 97/100\n",
      "250/250 [==============================] - 1s 4ms/step - loss: 1.0230 - accuracy: 0.7193 - val_loss: 1.7185 - val_accuracy: 0.5941\n",
      "Epoch 98/100\n",
      "250/250 [==============================] - 1s 3ms/step - loss: 1.0143 - accuracy: 0.7197 - val_loss: 1.6995 - val_accuracy: 0.5911\n",
      "Epoch 99/100\n",
      "250/250 [==============================] - 1s 3ms/step - loss: 0.9883 - accuracy: 0.7268 - val_loss: 1.6985 - val_accuracy: 0.6006\n",
      "Epoch 100/100\n",
      "250/250 [==============================] - 1s 3ms/step - loss: 0.9886 - accuracy: 0.7285 - val_loss: 1.7500 - val_accuracy: 0.5856\n"
     ]
    }
   ],
   "source": [
    "history2 = model2.fit(X_train, y_train, validation_data=(X_test, y_test), batch_size=32, epochs=100)"
   ]
  },
  {
   "cell_type": "code",
   "execution_count": 29,
   "metadata": {
    "execution": {
     "iopub.execute_input": "2021-10-26T17:36:34.952848Z",
     "iopub.status.busy": "2021-10-26T17:36:34.952570Z",
     "iopub.status.idle": "2021-10-26T17:36:35.303236Z",
     "shell.execute_reply": "2021-10-26T17:36:35.302574Z",
     "shell.execute_reply.started": "2021-10-26T17:36:34.952816Z"
    }
   },
   "outputs": [
    {
     "data": {
      "image/png": "[encoded data removed]",
      "text/plain": [
       "<Figure size 720x1440 with 2 Axes>"
      ]
     },
     "metadata": {
      "needs_background": "light"
     },
     "output_type": "display_data"
    }
   ],
   "source": [
    "import matplotlib.pyplot as plt\n",
    "\n",
    "fig, axs = plt.subplots(2, figsize=(10, 20))\n",
    "\n",
    "# create accuracy sublpot\n",
    "\n",
    "axs[0].plot(history2.history[\"accuracy\"], label=\"train accuracy\")\n",
    "axs[0].plot(history2.history[\"val_accuracy\"], label=\"test accuracy\")\n",
    "axs[0].set_ylabel(\"Accuracy\")\n",
    "axs[0].legend(loc=\"lower right\")\n",
    "axs[0].set_title(\"Accuracy eval\")\n",
    "\n",
    "# create error sublpot\n",
    "axs[1].plot(history2.history[\"loss\"], label=\"train error\")\n",
    "axs[1].plot(history2.history[\"val_loss\"], label=\"test error\")\n",
    "axs[1].set_ylabel(\"Error\")\n",
    "axs[1].set_xlabel(\"Epoch\")\n",
    "axs[1].legend(loc=\"upper right\")\n",
    "axs[1].set_title(\"Error eval\")\n",
    "\n",
    "plt.show()"
   ]
  }
 ],
 "metadata": {
  "kernelspec": {
   "display_name": "Python 3",
   "language": "python",
   "name": "python3"
  },
  "language_info": {
   "codemirror_mode": {
    "name": "ipython",
    "version": 3
   },
   "file_extension": ".py",
   "mimetype": "text/x-python",
   "name": "python",
   "nbconvert_exporter": "python",
   "pygments_lexer": "ipython3",
   "version": "3.8.5"
  }
 },
 "nbformat": 4,
 "nbformat_minor": 4
}
